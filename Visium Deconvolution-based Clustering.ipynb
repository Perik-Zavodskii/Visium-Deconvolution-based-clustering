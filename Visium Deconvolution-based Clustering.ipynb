{
 "cells": [
  {
   "cell_type": "markdown",
   "id": "7d8b5090",
   "metadata": {},
   "source": [
    "## Install R Packages "
   ]
  },
  {
   "cell_type": "code",
   "execution_count": null,
   "id": "5fc2bf41",
   "metadata": {},
   "outputs": [],
   "source": [
    "# if (!requireNamespace(\"BiocManager\", quietly = TRUE)) install.packages(\"BiocManager\")\n",
    "# BiocManager::install(c(\"harmony\"))\n",
    "# BiocManager::install(c(\"glmGamPoi\"))\n",
    "# BiocManager::install('limma')\n",
    "# install.packages(\"Seurat\")\n",
    "# install.packages(\"sctransform\")\n",
    "# install.packages('hdf5r')\n",
    "# install.packages('devtools')\n",
    "# devtools::install_github('immunogenomics/presto')"
   ]
  },
  {
   "cell_type": "markdown",
   "id": "2d7b3dbb",
   "metadata": {},
   "source": [
    "## Import R Packages "
   ]
  },
  {
   "cell_type": "code",
   "execution_count": null,
   "id": "6095b2d7",
   "metadata": {},
   "outputs": [],
   "source": [
    "# Library import\n",
    "\n",
    "library(Seurat)\n",
    "library(ggplot2)\n",
    "library(sctransform)\n",
    "library(harmony)\n",
    "library(patchwork)\n",
    "library(dplyr)\n",
    "library(magrittr)\n",
    "\n",
    "library(future)\n",
    "plan(\"multicore\", workers = 10)\n",
    "options(future.globals.maxSize = 12000 * 1024^2)\n",
    "future.seed=TRUE \n",
    "\n",
    "set.seed(1)"
   ]
  },
  {
   "cell_type": "markdown",
   "id": "4c1ebcd5",
   "metadata": {},
   "source": [
    "## Import Visium Data"
   ]
  },
  {
   "cell_type": "code",
   "execution_count": null,
   "id": "c9bc5775",
   "metadata": {},
   "outputs": [],
   "source": [
    "data_dir <- './'\n",
    "list.files(data_dir) # Should show filtered_feature_bc_matrix.h5\n",
    "Visium_1 <- Load10X_Spatial(data.dir = data_dir)"
   ]
  },
  {
   "cell_type": "markdown",
   "id": "bdad33be",
   "metadata": {},
   "source": [
    "## QC Visium Data"
   ]
  },
  {
   "cell_type": "code",
   "execution_count": null,
   "id": "e232dd19",
   "metadata": {},
   "outputs": [],
   "source": [
    "plot1 <- VlnPlot(Visium, features = \"nCount_Spatial\", pt.size = 0.1) + NoLegend()\n",
    "plot2 <- SpatialFeaturePlot(Visium, features = \"nCount_Spatial\") + theme(legend.position = \"right\")\n",
    "plot1\n",
    "plot2"
   ]
  },
  {
   "cell_type": "code",
   "execution_count": null,
   "id": "68216447-cdb0-4ac3-af69-580d7380c1d4",
   "metadata": {},
   "outputs": [],
   "source": [
    "Visium <- subset(Visium,  nCount_Spatial > 0)\n",
    "SpatialFeaturePlot(Visium, features = \"nCount_Spatial\") + theme(legend.position = \"right\")"
   ]
  },
  {
   "cell_type": "markdown",
   "id": "ec4aa6f5",
   "metadata": {},
   "source": [
    "## Data Normalization"
   ]
  },
  {
   "cell_type": "markdown",
   "id": "26c71035-7bd4-4000-a94e-6772839a84c2",
   "metadata": {},
   "source": [
    "#### SCTransform "
   ]
  },
  {
   "cell_type": "code",
   "execution_count": null,
   "id": "a245497f",
   "metadata": {},
   "outputs": [],
   "source": [
    "Visium <- SCTransform(Visium, assay = \"Spatial\", verbose = TRUE)\n",
    "Visium"
   ]
  },
  {
   "cell_type": "markdown",
   "id": "9c48a14b-b92e-41bc-9fc6-53f076730b98",
   "metadata": {},
   "source": [
    "## STdeconvolve "
   ]
  },
  {
   "cell_type": "code",
   "execution_count": null,
   "id": "8c1b6910-851e-4fa3-93de-a9f2b0b8f628",
   "metadata": {},
   "outputs": [],
   "source": [
    "# if (!requireNamespace(\"BiocManager\", quietly = TRUE)) install.packages(\"BiocManager\")\n",
    "# BiocManager::install(c(\"STdeconvolve\"))"
   ]
  },
  {
   "cell_type": "code",
   "execution_count": null,
   "id": "3562f74d-fa9e-42fb-878d-1ae45ce32c7d",
   "metadata": {},
   "outputs": [],
   "source": [
    "library(parallel)\n",
    "library(STdeconvolve)"
   ]
  },
  {
   "cell_type": "code",
   "execution_count": null,
   "id": "0e70bebd-8b78-45f7-bf55-9d865b5a4249",
   "metadata": {},
   "outputs": [],
   "source": [
    "DefaultAssay(Visium) <- 'SCT'\n",
    "counts <- as.matrix(GetAssayData(object = Visium, assay = 'Spatial', slot = \"counts\"), sparse = TRUE)\n",
    "pos <- GetTissueCoordinates(Visium)\n",
    "colnames(pos) <- c(\"x\", \"y\")\n",
    "\n",
    "#Choose 1000 top variable genes for further cell-type deconvolution\n",
    "corpus <- restrictCorpus(counts, removeAbove=1.0, removeBelow = 0.05)\n",
    "head(corpus)"
   ]
  },
  {
   "cell_type": "code",
   "execution_count": null,
   "id": "478c648d-df19-4dce-a8ec-753174cc00d8",
   "metadata": {},
   "outputs": [],
   "source": [
    "#corpus <- counts[which(rownames(counts)%in%immune_genes),]\n",
    "\n",
    "#Fit LDA models to the data\n",
    "ldas <- fitLDA(t(as.matrix(corpus)),ncores = detectCores(),seq(4,12,1))\n",
    "ldas"
   ]
  },
  {
   "cell_type": "code",
   "execution_count": null,
   "id": "b2785df9-d2b9-49fc-8e5c-315a353ff637",
   "metadata": {},
   "outputs": [],
   "source": [
    "optLDA <- optimalModel(models = ldas, opt = 8)\n",
    "results <- getBetaTheta(optLDA, perc.filt = 0.05, betaScale = 1000)\n",
    "deconProp <- results$theta\n",
    "deconGexp <- results$beta"
   ]
  },
  {
   "cell_type": "code",
   "execution_count": null,
   "id": "ee86b400-ad4b-49bc-a195-7f28facc9fc7",
   "metadata": {},
   "outputs": [],
   "source": [
    "ps <- lapply(colnames(deconProp), function(celltype) {\n",
    "  \n",
    "  celltype <- as.numeric(celltype)\n",
    "  ## highly expressed in cell-type of interest\n",
    "  highgexp <- names(which(deconGexp[celltype,] > 3))\n",
    "  ## high log2(fold-change) compared to other deconvolved cell-types\n",
    "  log2fc <- sort(log2(deconGexp[celltype,highgexp]/colMeans(deconGexp[-celltype,highgexp])), decreasing=TRUE)\n",
    "  markers <- names(log2fc)[1] ## label just the top gene\n",
    "  markers\n",
    "  \n",
    "  # -----------------------------------------------------\n",
    "  ## visualize the transcriptional profile\n",
    "  dat <- data.frame(values = as.vector(log2fc), genes = names(log2fc), order = seq(length(log2fc)))\n",
    "  # Hide all of the text labels.\n",
    "  dat$selectedLabels <- \"\"\n",
    "  dat$selectedLabels[1] <- markers\n",
    "  \n",
    "  plt <- ggplot2::ggplot(data = dat) +\n",
    "    ggplot2::geom_col(ggplot2::aes(x = order, y = values,\n",
    "                                   fill = factor(selectedLabels == \"\"),\n",
    "                                   color = factor(selectedLabels == \"\")), width = 1) +\n",
    "    \n",
    "    ggplot2::scale_fill_manual(values = c(\"darkblue\",\n",
    "                                          \"darkblue\"\n",
    "                                          )) +\n",
    "    ggplot2::scale_color_manual(values = c(\"darkblue\",\n",
    "                                          \"darkblue\"\n",
    "                                          )) +\n",
    "    \n",
    "    ggplot2::scale_y_continuous(expand = c(0, 0), limits = c(min(log2fc) - 0.3, max(log2fc) + 0.3)) +\n",
    "    # ggplot2::scale_x_continuous(expand = c(0, 0), limits = c(-2, NA)) +\n",
    "    \n",
    "    ggplot2::labs(title = paste0(\"X\", celltype),\n",
    "                  x = \"Gene expression rank\",\n",
    "                  y = \"log2(FC)\") +\n",
    "    \n",
    "    ## placement of gene symbol labels of top genes\n",
    "    ggplot2::geom_text(ggplot2::aes(x = order+1, y = values-0.1, label = selectedLabels), color = \"red\") +\n",
    "    \n",
    "    ggplot2::theme_classic() +\n",
    "    ggplot2::theme(axis.text.x = ggplot2::element_text(size=15, color = \"black\"),\n",
    "                   axis.text.y = ggplot2::element_text(size=15, color = \"black\"),\n",
    "                   axis.title.y = ggplot2::element_text(size=15, color = \"black\"),\n",
    "                   axis.title.x = ggplot2::element_text(size=15, color = \"black\"),\n",
    "                   axis.ticks.x = ggplot2::element_blank(),\n",
    "                   plot.title = ggplot2::element_text(size=15),\n",
    "                   legend.text = ggplot2::element_text(size = 15, colour = \"black\"),\n",
    "                   legend.title = ggplot2::element_text(size = 15, colour = \"black\", angle = 90),\n",
    "                   panel.background = ggplot2::element_blank(),\n",
    "                   plot.background = ggplot2::element_blank(),\n",
    "                   panel.grid.major.y = ggplot2::element_line(size = 0.3, colour = \"gray80\"),\n",
    "                   axis.line = ggplot2::element_line(size = 1, colour = \"black\"),\n",
    "                   legend.position=\"none\"\n",
    "                   )\n",
    "  plt\n",
    "})\n",
    "gridExtra::grid.arrange(\n",
    "  grobs = ps,\n",
    "  layout_matrix = rbind(c(1, 2, 3, 4),\n",
    "                        c(5, 6, 7, 8),\n",
    "                        c(9, 10, 11, 12),\n",
    "                        c(13, 14, 15, 16))\n",
    ")"
   ]
  },
  {
   "cell_type": "code",
   "execution_count": null,
   "id": "8dcfaec1-8e5c-4d15-936c-46fe250bd746",
   "metadata": {},
   "outputs": [],
   "source": [
    "highly_expressed_genes <- lapply(colnames(deconProp), function(celltype) {\n",
    "  celltype <- as.numeric(celltype)\n",
    "  ## highly expressed in cell-type of interest\n",
    "  highgexp <- names(which(deconGexp[celltype,] > 3))\n",
    "  ## high log2(fold-change) compared to other deconvolved cell-types\n",
    "  log2fc <- sort(log2(deconGexp[celltype,highgexp]/colMeans(deconGexp[-celltype,highgexp])), decreasing=TRUE)\n",
    "  \n",
    "  ## return a list with cell type and highly expressed genes\n",
    "  list(cell_type = celltype, highly_expressed_genes = highgexp)\n",
    "})\n",
    "\n",
    "highly_expressed_genes"
   ]
  },
  {
   "cell_type": "code",
   "execution_count": null,
   "id": "a4048ac3-bbb7-484a-921e-622809d31848",
   "metadata": {},
   "outputs": [],
   "source": [
    "data <- do.call(rbind, lapply(highly_expressed_genes, function(x) {\n",
    "  data.frame(cell_type = x$cell_type, highly_expressed_genes = x$highly_expressed_genes)\n",
    "}))\n",
    "head(data)"
   ]
  },
  {
   "cell_type": "markdown",
   "id": "53601144-dd5a-429d-9f7b-67a7c5ebcb6c",
   "metadata": {},
   "source": [
    "## EnrichR Topic Annotation"
   ]
  },
  {
   "cell_type": "code",
   "execution_count": null,
   "id": "2a3f0a53-2cde-451e-baa5-8034d29e925a",
   "metadata": {},
   "outputs": [],
   "source": [
    "install.packages('devtools')\n",
    "library(devtools)\n",
    "install_github(\"wjawaid/enrichR\")\n",
    "install.packages('data.table')"
   ]
  },
  {
   "cell_type": "code",
   "execution_count": null,
   "id": "de45b8ca-736e-4730-8522-9134b03c3b50",
   "metadata": {},
   "outputs": [],
   "source": [
    "library(data.table)\n",
    "library(enrichR)"
   ]
  },
  {
   "cell_type": "code",
   "execution_count": null,
   "id": "1ea3ebf3-cfd1-4eb8-9449-f9e662380f76",
   "metadata": {},
   "outputs": [],
   "source": [
    "# enrichR https://github.com/wjawaid/enrichR\n",
    "listEnrichrSites()\n",
    "setEnrichrSite(\"Enrichr\")\n",
    "dbs <- listEnrichrDbs()\n",
    "dbs"
   ]
  },
  {
   "cell_type": "code",
   "execution_count": null,
   "id": "f567de8f-07b8-42fe-854d-a98fc1bd0543",
   "metadata": {},
   "outputs": [],
   "source": [
    "# Select DB\n",
    "dbs <- c(\"GO_Biological_Process_2023\")"
   ]
  },
  {
   "cell_type": "code",
   "execution_count": null,
   "id": "8cad9ac1-83dc-411d-b7f0-072676fe6725",
   "metadata": {},
   "outputs": [],
   "source": [
    "# Topic 1\n",
    "enriched_1 <- enrichr(c(setDT(data)[cell_type == 1, highly_expressed_genes]), dbs) \n",
    "enriched_1"
   ]
  },
  {
   "cell_type": "code",
   "execution_count": null,
   "id": "2d1655e0-c89c-4f32-b1b6-14c60281e6dd",
   "metadata": {},
   "outputs": [],
   "source": [
    "# Topic 2\n",
    "enriched_2 <- enrichr(c(setDT(data)[cell_type == 2, highly_expressed_genes]), dbs) \n",
    "enriched_2"
   ]
  },
  {
   "cell_type": "code",
   "execution_count": null,
   "id": "437c05b0-22e9-4e4f-bd61-8d2b02207a64",
   "metadata": {},
   "outputs": [],
   "source": [
    "# Topic 3\n",
    "enriched_3 <- enrichr(c(setDT(data)[cell_type == 3, highly_expressed_genes]), dbs) \n",
    "enriched_3"
   ]
  },
  {
   "cell_type": "code",
   "execution_count": null,
   "id": "d6ebbe26-8577-497f-add3-d9c5ff89ebe4",
   "metadata": {},
   "outputs": [],
   "source": [
    "# Topic 4\n",
    "enriched_4 <- enrichr(c(setDT(data)[cell_type == 4, highly_expressed_genes]), dbs) \n",
    "enriched_4"
   ]
  },
  {
   "cell_type": "code",
   "execution_count": null,
   "id": "94478bce-aed3-4981-aad8-7c5ebfa3ce71",
   "metadata": {},
   "outputs": [],
   "source": [
    "# Topic 5\n",
    "enriched_5 <- enrichr(c(setDT(data)[cell_type == 5, highly_expressed_genes]), dbs)\n",
    "enriched_5"
   ]
  },
  {
   "cell_type": "code",
   "execution_count": null,
   "id": "7747b449-6d9f-46b6-8164-6f3af392ce58",
   "metadata": {},
   "outputs": [],
   "source": [
    "# Topic 6\n",
    "enriched_6 <- enrichr(c(setDT(data)[cell_type == 6, highly_expressed_genes]), dbs)\n",
    "enriched_6"
   ]
  },
  {
   "cell_type": "code",
   "execution_count": null,
   "id": "81051da7-d2a9-4d30-b71d-2cc7d28013c3",
   "metadata": {},
   "outputs": [],
   "source": [
    "# Topic 7\n",
    "enriched_7 <- enrichr(c(setDT(data)[cell_type == 7, highly_expressed_genes]), dbs)\n",
    "enriched_7"
   ]
  },
  {
   "cell_type": "code",
   "execution_count": null,
   "id": "86e3acf0-36c8-4e14-8459-1396bce67fe5",
   "metadata": {},
   "outputs": [],
   "source": [
    "# Topic 8\n",
    "enriched_8 <- enrichr(c(setDT(data)[cell_type == 8, highly_expressed_genes]), dbs)\n",
    "enriched_8"
   ]
  },
  {
   "cell_type": "code",
   "execution_count": null,
   "id": "09cf0473-c8aa-4ef9-b551-504f66d3b290",
   "metadata": {},
   "outputs": [],
   "source": [
    "DefaultAssay(Visium) <- 'SCT'\n",
    "counts <- GetAssayData(object = Visium, slot = \"counts\")\n",
    "cell_rankings <- AUCell_buildRankings(counts)"
   ]
  },
  {
   "cell_type": "code",
   "execution_count": null,
   "id": "c90e7c3e-bd28-4271-9b5e-62188d31c30c",
   "metadata": {},
   "outputs": [],
   "source": [
    "# Immune Signatures\n",
    "\n",
    "Macrophages <- c('AIF1', 'C1QA', 'C1QB', 'C1QC', 'C3AR1', 'CD163', 'CD33', 'DOK2', 'F13A1', 'FGD2', 'FOLR2', 'GPR34', \n",
    "                 'LILRB4', 'LYVE1', 'MARCO', 'MPEG1', 'MRC1', 'MS4A4A', 'MS4A4E', 'MS4A6A', 'RNASE6', 'SIGLEC1', 'SYK',\n",
    "                 'TYROBP', 'VSIG4')\n",
    "\n",
    "Neutrophils <- c('AZU1','BPI','DEFA3','DEFA4','ELANE')\n",
    "\n",
    "B_cells <- c('CD19','CD20','IGKC','IGLC1','IGLC2','IGLC3','IGLC4','IGHG1','IGHG2','IGHG3','IGHG4','IGHM','IGHE','JCHAIN',\n",
    "             'IGHA1','IGHA2')\n",
    "\n",
    "CD4_T_cells <- c('CD4')\n",
    "\n",
    "T_reg <- c('FOXP3','IL2RA')\n",
    "\n",
    "CD8_T_cells <- c('CD8A','CD8B')\n",
    "\n",
    "NK_cells <- c('NCAM1')\n",
    "\n",
    "Cytotoxic_cells <- c('GZMA','GZMB','GZMK','GZMH','PRF1','GNLY','NKG7','IFNG','TNF')\n",
    "\n",
    "Classic_Monocytes <- c('CD14','S100A8', 'CCL8', 'S100A9')\n",
    "\n",
    "# Non_Classic_Monocytes <- c('L1TD1', 'LYPD2', 'CKB', 'CTTNBP2', 'VMO1', 'PAQR4', 'PCDH12', 'THAP10', 'MRAS', 'GSTA4', \n",
    "                           # 'ICAM4', 'PPM1N')\n",
    "\n",
    "DCs <- c('FLT3')\n",
    "\n",
    "AUC_data <- rbind(\n",
    "                  # AUC_Neutrophils,\n",
    "                  AUC_B_cells, \n",
    "                  AUC_CD4_T_cells, AUC_T_reg, \n",
    "                  AUC_CD8_T_cells, AUC_NK_cells, \n",
    "                  AUC_Cytotoxic_cells,\n",
    "                  AUC_Classic_Monocytes,\n",
    "                  # AUC_Non_Classic_Monocytes,\n",
    "                  AUC_DCs)\n",
    "\n",
    "rownames(AUC_data) <- c(\n",
    "                        # 'Neutrophils',\n",
    "                        'B-cells',\n",
    "                        'CD4-T-cells','T-reg',\n",
    "                        'CD8-T-cells','NK-cells',\n",
    "                        'Cytotoxic-cells',\n",
    "                        'Classic-Monocytes',\n",
    "                        # 'Non_Classic_Monocytes',\n",
    "                        'DCs')\n",
    "\n",
    "AUC_data"
   ]
  },
  {
   "cell_type": "code",
   "execution_count": null,
   "id": "1506ef4c-eb38-4063-86e0-b065331e0178",
   "metadata": {},
   "outputs": [],
   "source": [
    "AUC_Topic_1 <- AUCell_calcAUC((setDT(data)[cell_type == 1, highly_expressed_genes]), cell_rankings)\n",
    "AUC_Topic_1 <- getAUC(AUC_Topic_1)\n",
    "\n",
    "AUC_Topic_2 <- AUCell_calcAUC((setDT(data)[cell_type == 2, highly_expressed_genes]), cell_rankings)\n",
    "AUC_Topic_2 <- getAUC(AUC_Topic_2)\n",
    "\n",
    "AUC_Topic_3 <- AUCell_calcAUC((setDT(data)[cell_type == 3, highly_expressed_genes]), cell_rankings)\n",
    "AUC_Topic_3 <- getAUC(AUC_Topic_3)\n",
    "\n",
    "AUC_Topic_4 <- AUCell_calcAUC((setDT(data)[cell_type == 4, highly_expressed_genes]), cell_rankings)\n",
    "AUC_Topic_4 <- getAUC(AUC_Topic_4)\n",
    "\n",
    "AUC_Topic_5 <- AUCell_calcAUC((setDT(data)[cell_type == 5, highly_expressed_genes]), cell_rankings)\n",
    "AUC_Topic_5 <- getAUC(AUC_Topic_5)\n",
    "\n",
    "AUC_Topic_6 <- AUCell_calcAUC((setDT(data)[cell_type == 6, highly_expressed_genes]), cell_rankings)\n",
    "AUC_Topic_6 <- getAUC(AUC_Topic_6)\n",
    "\n",
    "AUC_Topic_7 <- AUCell_calcAUC((setDT(data)[cell_type == 7, highly_expressed_genes]), cell_rankings)\n",
    "AUC_Topic_7 <- getAUC(AUC_Topic_7)\n",
    "\n",
    "AUC_Topic_8 <- AUCell_calcAUC((setDT(data)[cell_type == 8, highly_expressed_genes]), cell_rankings)\n",
    "AUC_Topic_8 <- getAUC(AUC_Topic_8)\n",
    "\n",
    "AUC_Macrophages <- AUCell_calcAUC(Macrophages, cell_rankings)\n",
    "AUC_Macrophages <- getAUC(AUC_Macrophages)\n",
    "\n",
    "# AUC_Neutrophils <- AUCell_calcAUC(Neutrophils, cell_rankings)\n",
    "# AUC_Neutrophils <- getAUC(AUC_Neutrophils)\n",
    "\n",
    "AUC_B_cells <- AUCell_calcAUC(B_cells, cell_rankings)\n",
    "AUC_B_cells <- getAUC(AUC_B_cells)\n",
    "\n",
    "AUC_CD4_T_cells <- AUCell_calcAUC(CD4_T_cells, cell_rankings)\n",
    "AUC_CD4_T_cells <- getAUC(AUC_CD4_T_cells)\n",
    "\n",
    "AUC_T_reg <- AUCell_calcAUC(T_reg, cell_rankings)\n",
    "AUC_T_reg <- getAUC(AUC_T_reg)\n",
    "\n",
    "AUC_CD8_T_cells <- AUCell_calcAUC(CD8_T_cells, cell_rankings)\n",
    "AUC_CD8_T_cells <- getAUC(AUC_CD8_T_cells)\n",
    "\n",
    "AUC_NK_cells <- AUCell_calcAUC(NK_cells, cell_rankings)\n",
    "AUC_NK_cells <- getAUC(AUC_NK_cells)\n",
    "\n",
    "AUC_Cytotoxic_cells <- AUCell_calcAUC(Cytotoxic_cells, cell_rankings)\n",
    "AUC_Cytotoxic_cells <- getAUC(AUC_Cytotoxic_cells)\n",
    "\n",
    "AUC_Classic_Monocytes <- AUCell_calcAUC(Classic_Monocytes, cell_rankings)\n",
    "AUC_Classic_Monocytes <- getAUC(AUC_Classic_Monocytes)\n",
    "\n",
    "# AUC_Non_Classic_Monocytes <- AUCell_calcAUC(AUC_Non_Classic_Monocytes, cell_rankings)\n",
    "# AUC_Non_Classic_Monocytes <- getAUC(AUC_Non_Classic_Monocytes)\n",
    "\n",
    "AUC_DCs <- AUCell_calcAUC(DCs, cell_rankings)\n",
    "AUC_DCs <- getAUC(AUC_DCs)"
   ]
  },
  {
   "cell_type": "code",
   "execution_count": null,
   "id": "d36ac4e0-6015-4543-be08-ccc43ea1be67",
   "metadata": {},
   "outputs": [],
   "source": [
    "AUC_data <- rbind(AUC_Topic_1, AUC_Topic_2,\n",
    "                  AUC_Topic_3, AUC_Topic_4,\n",
    "                  AUC_Topic_5, AUC_Topic_6,\n",
    "                  AUC_Topic_7, AUC_Topic_8,\n",
    "                  AUC_Macrophages,\n",
    "                  # AUC_Neutrophils,\n",
    "                  AUC_B_cells, \n",
    "                  AUC_CD4_T_cells, AUC_T_reg, \n",
    "                  AUC_CD8_T_cells, AUC_NK_cells, \n",
    "                  AUC_Cytotoxic_cells,\n",
    "                  AUC_Classic_Monocytes,\n",
    "                  # AUC_Non_Classic_Monocytes,\n",
    "                  AUC_DCs)\n",
    "\n",
    "rownames(AUC_data) <- c('Topic 1','Topic 2',\n",
    "                        'Topic 3','Topic 4',\n",
    "                        'Topic 5','Topic 6',\n",
    "                        'Topic 7','Topic 8',\n",
    "                        'Macrophages',\n",
    "                        # 'Neutrophils',\n",
    "                        'B-cells',\n",
    "                        'CD4-T-cells','T-reg',\n",
    "                        'CD8-T-cells','NK-cells',\n",
    "                        'Cytotoxic-cells',\n",
    "                        'Classic-Monocytes',\n",
    "                        # 'Non_Classic_Monocytes',\n",
    "                        'DCs')\n",
    "\n",
    "AUC_data"
   ]
  },
  {
   "cell_type": "code",
   "execution_count": null,
   "id": "bf1887f5-2897-40b7-9b7d-5a2c5da653eb",
   "metadata": {},
   "outputs": [],
   "source": [
    "Visium[['AUC']] <- CreateAssayObject(data = AUC_data)\n",
    "DefaultAssay(Visium) <- 'AUC'\n",
    "Visium"
   ]
  },
  {
   "cell_type": "markdown",
   "id": "b4076b55-9305-48cb-a7ec-4608cca9bcee",
   "metadata": {},
   "source": [
    "## PCA, UMAP, and Clustering"
   ]
  },
  {
   "cell_type": "code",
   "execution_count": null,
   "id": "eae3b4f5-78f6-41f7-9933-39140d159987",
   "metadata": {},
   "outputs": [],
   "source": [
    "DefaultAssay(Visium) <- 'AUC'\n",
    "\n",
    "VariableFeatures(Visium) <- rownames(Visium[[\"AUC\"]])\n",
    "\n",
    "Visium <- ScaleData(Visium)\n",
    "\n",
    "# Calculate PCs\n",
    "Visium <- RunPCA(Visium,\n",
    "                        reduction.name = \"aucpca\",\n",
    "                        reduction.key = \"AUCPC_\",npcs = 40)"
   ]
  },
  {
   "cell_type": "code",
   "execution_count": null,
   "id": "4b73da7f-89d9-42a1-bdd0-963a2aa34845",
   "metadata": {},
   "outputs": [],
   "source": [
    "ElbowPlot(Visium, ndims = 40, reduction = \"aucpca\")"
   ]
  },
  {
   "cell_type": "code",
   "execution_count": null,
   "id": "37d86a14-e733-4b23-83e1-3994955e8585",
   "metadata": {},
   "outputs": [],
   "source": [
    "dims = 15\n",
    "\n",
    "Visium <- FindNeighbors(Visium, reduction = \"aucpca\", dims = 1:dims)\n",
    "Visium <- FindClusters(Visium, verbose = TRUE)\n",
    "Visium <- RunUMAP(Visium, \n",
    "                             reduction = \"aucpca\",\n",
    "                             dims = 1:dims)"
   ]
  },
  {
   "cell_type": "code",
   "execution_count": null,
   "id": "a7c6dc72-4212-466c-bb34-c9c2940b1b0c",
   "metadata": {},
   "outputs": [],
   "source": [
    "Visium <- FindClusters(Visium,\n",
    "                                  resolution = 0.7,\n",
    "                                  verbose = FALSE)\n",
    "\n",
    "DimPlot(Visium, reduction = \"umap\",\n",
    "        pt.size = 1.25,label = TRUE)\n",
    "\n",
    "ggsave(\n",
    "  \"AUC UMAP.pdf\",\n",
    "  plot = last_plot(),\n",
    "  device = \"pdf\",\n",
    "#   path = NULL,\n",
    "#   scale = 1, \n",
    "#   1 plot == 10 cm in each dimention\n",
    "  width = 17,\n",
    "  height = 15,\n",
    "  units = \"cm\",\n",
    "  dpi = 10000,\n",
    "  limitsize = TRUE,\n",
    "#   bg = NULL,\n",
    ")"
   ]
  },
  {
   "cell_type": "code",
   "execution_count": null,
   "id": "666f4aeb-1d18-45a3-92c9-3ab8d95bcca9",
   "metadata": {},
   "outputs": [],
   "source": [
    "SpatialDimPlot(Visium, label = TRUE, label.size = 4)\n",
    "ggsave(\n",
    "  \"Spatial AUC.pdf\",\n",
    "  plot = last_plot(),\n",
    "  device = \"pdf\",\n",
    "#   path = NULL,\n",
    "#   scale = 1, \n",
    "#   1 plot == 10 cm in each dimention\n",
    "  width = 19,\n",
    "  height = 15,\n",
    "  units = \"cm\",\n",
    "  dpi = 10000,\n",
    "  limitsize = TRUE,\n",
    "#   bg = NULL,\n",
    ")"
   ]
  },
  {
   "cell_type": "code",
   "execution_count": null,
   "id": "79d3f0fb-3662-4766-a977-8871e3dfd1f0",
   "metadata": {},
   "outputs": [],
   "source": [
    "features = c('Topic 1','Topic 2',\n",
    "                        'Topic 3','Topic 4',\n",
    "                        'Topic 5','Topic 6',\n",
    "                        'Topic 7','Topic 8',\n",
    "                        'Macrophages',\n",
    "                        # 'Neutrophils',\n",
    "                        'B-cells',\n",
    "                        'CD4-T-cells','T-reg',\n",
    "                        'CD8-T-cells','NK-cells',\n",
    "                        'Cytotoxic-cells',\n",
    "                        'Classic-Monocytes',\n",
    "                        # 'Non_Classic_Monocytes',\n",
    "                        'DCs')\n",
    "\n",
    "DotPlot(Visium, \n",
    "         col.min = 0, \n",
    "        features = features) + RotatedAxis() + coord_flip() \n",
    "# + scale_colour_viridis()\n",
    "\n",
    "# Save the last plot as a pdf\n",
    "\n",
    "ggsave(\n",
    "  \"AUC Dot.pdf\",\n",
    "  plot = last_plot(),\n",
    "  device = \"pdf\",\n",
    "#   path = NULL,\n",
    "#   scale = 1,\n",
    "#   1 plot == 10 cm in each dimention\n",
    "  width = 30 ,\n",
    "  height = 17,\n",
    "  units = \"cm\",\n",
    "  dpi = 10000,\n",
    "  limitsize = TRUE,\n",
    "#   bg = NULL,\n",
    ")"
   ]
  },
  {
   "cell_type": "markdown",
   "id": "eb0dacc1",
   "metadata": {},
   "source": [
    "## Re-order and re-name clusters "
   ]
  },
  {
   "cell_type": "code",
   "execution_count": null,
   "id": "fc6bdbf4",
   "metadata": {},
   "outputs": [],
   "source": [
    "levels(Visium) <- c('1','2','9',\n",
    "                               '0',\n",
    "                               '3',\n",
    "                               '8',\n",
    "                               '7',\n",
    "                               '5', \n",
    "                               '4',\n",
    "                               '6'\n",
    "                              )\n",
    "\n",
    "new.cluster.ids <- c('Skeletal myocytes','Skeletal myocytes','Skeletal myocytes',\n",
    "                     'Fibroblasts',\n",
    "                     'Immune Infiltration',\n",
    "                     'CD4+ T-cells',\n",
    "                     'Tumor 1 Core',\n",
    "                     'Tumor 1 Edge', \n",
    "                     'Tumor 2',\n",
    "                     'Tumor 3'\n",
    "                     )\n",
    "\n",
    "names(new.cluster.ids) <- levels(Visium)\n",
    "Visium <- RenameIdents(Visium, new.cluster.ids)"
   ]
  },
  {
   "cell_type": "code",
   "execution_count": null,
   "id": "7bc2c268",
   "metadata": {},
   "outputs": [],
   "source": [
    "DimPlot(Visium, reduction = \"umap\",\n",
    "        pt.size = 1,label = FALSE)\n",
    "\n",
    "ggsave(\n",
    "  \"AUC Clusters UMAP.pdf\",\n",
    "  plot = last_plot(),\n",
    "  device = \"pdf\",\n",
    "#   path = NULL,\n",
    "#   scale = 1, \n",
    "#   1 plot == 10 cm in each dimention\n",
    "  width = 20.5,\n",
    "  height = 15,\n",
    "  units = \"cm\",\n",
    "  dpi = 10000,\n",
    "  limitsize = TRUE,\n",
    "#   bg = NULL,\n",
    ")"
   ]
  },
  {
   "cell_type": "code",
   "execution_count": null,
   "id": "13ccdbd8-8417-468f-9186-8ac326d6a35e",
   "metadata": {},
   "outputs": [],
   "source": [
    "SpatialDimPlot(Visium, label = FALSE, label.size = 4)\n",
    "ggsave(\n",
    "  \"Spatial AUC.pdf\",\n",
    "  plot = last_plot(),\n",
    "  device = \"pdf\",\n",
    "#   path = NULL,\n",
    "#   scale = 1, \n",
    "#   1 plot == 10 cm in each dimention\n",
    "  width = 19,\n",
    "  height = 15,\n",
    "  units = \"cm\",\n",
    "  dpi = 10000,\n",
    "  limitsize = TRUE,\n",
    "#   bg = NULL,\n",
    ")"
   ]
  },
  {
   "cell_type": "code",
   "execution_count": null,
   "id": "9cc48cd8",
   "metadata": {},
   "outputs": [],
   "source": [
    "saveRDS(Visium, file = \"Seurat_Spatial.rds\")"
   ]
  }
 ],
 "metadata": {
  "kernelspec": {
   "display_name": "R",
   "language": "R",
   "name": "ir"
  },
  "language_info": {
   "codemirror_mode": "r",
   "file_extension": ".r",
   "mimetype": "text/x-r-source",
   "name": "R",
   "pygments_lexer": "r",
   "version": "4.3.2"
  }
 },
 "nbformat": 4,
 "nbformat_minor": 5
}
